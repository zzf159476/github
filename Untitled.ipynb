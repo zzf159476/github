{
 "cells": [
  {
   "cell_type": "code",
   "execution_count": 1,
   "metadata": {},
   "outputs": [],
   "source": [
    "__author__=\"zzf\""
   ]
  },
  {
   "cell_type": "code",
   "execution_count": 63,
   "metadata": {},
   "outputs": [
    {
     "name": "stdout",
     "output_type": "stream",
     "text": [
      "[1.0, 0.6000000000000001, 1.1999999999999997, -2.5, -2.4, 1.25]\n"
     ]
    }
   ],
   "source": [
    "target=np.array([1.5,2.1,3.3,-4.7,-2.3,0.75])\n",
    "pred=np.array([0.5,1.5,2.1,-2.2,0.1,-0.5])\n",
    "error=[]\n",
    "for i in range(len(target)):\n",
    "    error.append(target[i]-pre[i])\n",
    "print(error)"
   ]
  },
  {
   "cell_type": "markdown",
   "metadata": {},
   "source": [
    "计算平方误差和绝对误差"
   ]
  },
  {
   "cell_type": "code",
   "execution_count": 2,
   "metadata": {},
   "outputs": [
    {
     "name": "stdout",
     "output_type": "stream",
     "text": [
      "[1.0, 0.3600000000000001, 1.4399999999999993, 6.25, 5.76, 1.5625]\n",
      "\n",
      "\n",
      "[1.0, 0.6000000000000001, 1.1999999999999997, 2.5, 2.4, 1.25]\n"
     ]
    }
   ],
   "source": [
    "import numpy as np\n",
    "squarederror=[]\n",
    "abserror=[]\n",
    "for i in range(len(target)):\n",
    "    squarederror.append((target[i]-pre[i])**2)\n",
    "    abserror.append(np.abs(target[i]-pre[i]))\n",
    "print(squarederror)\n",
    "print(\"\\n\")\n",
    "print(abserror)"
   ]
  },
  {
   "cell_type": "markdown",
   "metadata": {},
   "source": [
    "计算MSE MAE RMSE"
   ]
  },
  {
   "cell_type": "code",
   "execution_count": 8,
   "metadata": {},
   "outputs": [
    {
     "name": "stdout",
     "output_type": "stream",
     "text": [
      "MSE= 2.72875\n",
      "MAE= 1.4916666666666665\n",
      "RMSE= 1.651892853668179\n"
     ]
    }
   ],
   "source": [
    "print(\"MSE=\",sum(squarederror)/len(squarederror))\n",
    "print(\"MAE=\",sum(abserror)/len(squarederror))\n",
    "print(\"RMSE=\",np.sqrt(sum(squarederror)/len(squarederror)))"
   ]
  },
  {
   "cell_type": "markdown",
   "metadata": {},
   "source": [
    "MSE 和target方差比较"
   ]
  },
  {
   "cell_type": "code",
   "execution_count": 10,
   "metadata": {},
   "outputs": [
    {
     "name": "stdout",
     "output_type": "stream",
     "text": [
      "stanrderd variance= 2.7514263977475797\n"
     ]
    }
   ],
   "source": [
    "std_variance=[]\n",
    "for i in range(len(target)):\n",
    "    std_variance.append((target[i]-np.mean(target))**2/len(target))\n",
    "std_variance=np.sqrt(sum(std_variance))\n",
    "print(\"stanrderd variance=\",std_variance)"
   ]
  },
  {
   "cell_type": "code",
   "execution_count": 76,
   "metadata": {},
   "outputs": [],
   "source": [
    "# %%writefile model_assess.py\n",
    "def assess(target,pre):\n",
    "    import numpy as np\n",
    "    import pandas as pd\n",
    "    squarederror=[]\n",
    "    abserror=[]\n",
    "    for i in range(len(target)):\n",
    "        squarederror.append((target[i]-pre[i])**2)\n",
    "        abserror.append(np.abs(target[i]-pre[i]))\n",
    "    print(\"MSE=\",sum(squarederror)/len(squarederror))\n",
    "    print(\"\\n\")\n",
    "    print(\"MAE=\",sum(abserror)/len(squarederror))\n",
    "    print(\"\\n\")\n",
    "    print(\"RMSE=\",np.sqrt(sum(squarederror)/len(squarederror)))\n",
    "    print(\"\\n\")\n",
    "    std_variance=[]\n",
    "    for i in range(len(target)):\n",
    "        std_variance.append((target[i]-np.mean(target))**2/len(target))\n",
    "    std_variance=np.sqrt(sum(std_variance))\n",
    "    print(\"stanrderd variance=\",std_variance)\n",
    "    if std_variance>=np.sqrt(sum(squarederror)/len(squarederror)):\n",
    "        print(\"pred is stable than std_variance\")\n",
    "        print(\"\\n\")\n",
    "    else:\n",
    "        print(\"pred is not stable than std_variance\")"
   ]
  },
  {
   "cell_type": "code",
   "execution_count": 73,
   "metadata": {},
   "outputs": [],
   "source": [
    "import model_assess"
   ]
  },
  {
   "cell_type": "code",
   "execution_count": 78,
   "metadata": {},
   "outputs": [
    {
     "name": "stdout",
     "output_type": "stream",
     "text": [
      "MSE= 2.72875\n",
      "\n",
      "\n",
      "MAE= 1.4916666666666665\n",
      "\n",
      "\n",
      "RMSE= 1.651892853668179\n",
      "\n",
      "\n",
      "stanrderd variance= 2.7514263977475797\n",
      "pred is stable than std_variance\n",
      "\n",
      "\n"
     ]
    }
   ],
   "source": [
    "assess(target,pred)"
   ]
  },
  {
   "cell_type": "code",
   "execution_count": 45,
   "metadata": {},
   "outputs": [
    {
     "data": {
      "text/plain": [
       "'C:\\\\Users\\\\Administrator\\\\Desktop\\\\python'"
      ]
     },
     "execution_count": 45,
     "metadata": {},
     "output_type": "execute_result"
    }
   ],
   "source": [
    "import os\n",
    "os.getcwd()"
   ]
  },
  {
   "cell_type": "code",
   "execution_count": 44,
   "metadata": {},
   "outputs": [
    {
     "data": {
      "text/plain": [
       "'C:\\\\Users\\\\Administrator\\\\Desktop\\\\python'"
      ]
     },
     "execution_count": 44,
     "metadata": {},
     "output_type": "execute_result"
    }
   ],
   "source": []
  },
  {
   "cell_type": "code",
   "execution_count": null,
   "metadata": {},
   "outputs": [],
   "source": []
  },
  {
   "cell_type": "code",
   "execution_count": null,
   "metadata": {},
   "outputs": [],
   "source": []
  },
  {
   "cell_type": "code",
   "execution_count": null,
   "metadata": {},
   "outputs": [],
   "source": []
  }
 ],
 "metadata": {
  "kernelspec": {
   "display_name": "Python 3",
   "language": "python",
   "name": "python3"
  },
  "language_info": {
   "codemirror_mode": {
    "name": "ipython",
    "version": 3
   },
   "file_extension": ".py",
   "mimetype": "text/x-python",
   "name": "python",
   "nbconvert_exporter": "python",
   "pygments_lexer": "ipython3",
   "version": "3.6.5"
  }
 },
 "nbformat": 4,
 "nbformat_minor": 2
}
